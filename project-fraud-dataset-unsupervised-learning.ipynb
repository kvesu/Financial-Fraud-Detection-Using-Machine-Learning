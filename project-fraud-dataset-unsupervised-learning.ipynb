{
 "cells": [
  {
   "cell_type": "code",
   "execution_count": 1,
   "id": "cb9dbbad",
   "metadata": {
    "_cell_guid": "b1076dfc-b9ad-4769-8c92-a6c4dae69d19",
    "_uuid": "8f2839f25d086af736a60e9eeb907d3b93b6e0e5",
    "execution": {
     "iopub.execute_input": "2024-09-08T16:39:28.378168Z",
     "iopub.status.busy": "2024-09-08T16:39:28.377627Z",
     "iopub.status.idle": "2024-09-08T16:39:28.795261Z",
     "shell.execute_reply": "2024-09-08T16:39:28.793867Z"
    },
    "papermill": {
     "duration": 0.432222,
     "end_time": "2024-09-08T16:39:28.798694",
     "exception": false,
     "start_time": "2024-09-08T16:39:28.366472",
     "status": "completed"
    },
    "tags": []
   },
   "outputs": [
    {
     "name": "stdout",
     "output_type": "stream",
     "text": [
      "/kaggle/input/banksim1/bs140513_032310.csv\n",
      "/kaggle/input/banksim1/bsNET140513_032310.csv\n"
     ]
    }
   ],
   "source": [
    "# This Python 3 environment comes with many helpful analytics libraries installed\n",
    "# It is defined by the kaggle/python Docker image: https://github.com/kaggle/docker-python\n",
    "# For example, here's several helpful packages to load\n",
    "\n",
    "import numpy as np # linear algebra\n",
    "import pandas as pd # data processing, CSV file I/O (e.g. pd.read_csv)\n",
    "\n",
    "# Input data files are available in the read-only \"../input/\" directory\n",
    "# For example, running this (by clicking run or pressing Shift+Enter) will list all files under the input directory\n",
    "\n",
    "import os\n",
    "for dirname, _, filenames in os.walk('/kaggle/input'):\n",
    "    for filename in filenames:\n",
    "        print(os.path.join(dirname, filename))\n",
    "\n",
    "# You can write up to 20GB to the current directory (/kaggle/working/) that gets preserved as output when you create a version using \"Save & Run All\" \n",
    "# You can also write temporary files to /kaggle/temp/, but they won't be saved outside of the current session"
   ]
  },
  {
   "cell_type": "code",
   "execution_count": 2,
   "id": "cf61d519",
   "metadata": {
    "execution": {
     "iopub.execute_input": "2024-09-08T16:39:28.820347Z",
     "iopub.status.busy": "2024-09-08T16:39:28.819142Z",
     "iopub.status.idle": "2024-09-08T16:39:30.183765Z",
     "shell.execute_reply": "2024-09-08T16:39:30.182822Z"
    },
    "papermill": {
     "duration": 1.37752,
     "end_time": "2024-09-08T16:39:30.186329",
     "exception": false,
     "start_time": "2024-09-08T16:39:28.808809",
     "status": "completed"
    },
    "tags": []
   },
   "outputs": [],
   "source": [
    "# Necessary imports\n",
    "\n",
    "## Data loading, processing and for more\n",
    "import pandas as pd\n",
    "import numpy as np\n",
    "\n",
    "## Visualization\n",
    "import matplotlib.pyplot as plt\n",
    "\n",
    "## Metrics\n",
    "from sklearn.model_selection import train_test_split\n"
   ]
  },
  {
   "cell_type": "code",
   "execution_count": 3,
   "id": "1016bac5",
   "metadata": {
    "execution": {
     "iopub.execute_input": "2024-09-08T16:39:30.205782Z",
     "iopub.status.busy": "2024-09-08T16:39:30.205207Z",
     "iopub.status.idle": "2024-09-08T16:39:31.492557Z",
     "shell.execute_reply": "2024-09-08T16:39:31.491397Z"
    },
    "papermill": {
     "duration": 1.299633,
     "end_time": "2024-09-08T16:39:31.494850",
     "exception": false,
     "start_time": "2024-09-08T16:39:30.195217",
     "status": "completed"
    },
    "tags": []
   },
   "outputs": [
    {
     "data": {
      "text/html": [
       "<div>\n",
       "<style scoped>\n",
       "    .dataframe tbody tr th:only-of-type {\n",
       "        vertical-align: middle;\n",
       "    }\n",
       "\n",
       "    .dataframe tbody tr th {\n",
       "        vertical-align: top;\n",
       "    }\n",
       "\n",
       "    .dataframe thead th {\n",
       "        text-align: right;\n",
       "    }\n",
       "</style>\n",
       "<table border=\"1\" class=\"dataframe\">\n",
       "  <thead>\n",
       "    <tr style=\"text-align: right;\">\n",
       "      <th></th>\n",
       "      <th>step</th>\n",
       "      <th>customer</th>\n",
       "      <th>age</th>\n",
       "      <th>gender</th>\n",
       "      <th>zipcodeOri</th>\n",
       "      <th>merchant</th>\n",
       "      <th>zipMerchant</th>\n",
       "      <th>category</th>\n",
       "      <th>amount</th>\n",
       "      <th>fraud</th>\n",
       "    </tr>\n",
       "  </thead>\n",
       "  <tbody>\n",
       "    <tr>\n",
       "      <th>0</th>\n",
       "      <td>0</td>\n",
       "      <td>'C1093826151'</td>\n",
       "      <td>'4'</td>\n",
       "      <td>'M'</td>\n",
       "      <td>'28007'</td>\n",
       "      <td>'M348934600'</td>\n",
       "      <td>'28007'</td>\n",
       "      <td>'es_transportation'</td>\n",
       "      <td>4.55</td>\n",
       "      <td>0</td>\n",
       "    </tr>\n",
       "    <tr>\n",
       "      <th>1</th>\n",
       "      <td>0</td>\n",
       "      <td>'C352968107'</td>\n",
       "      <td>'2'</td>\n",
       "      <td>'M'</td>\n",
       "      <td>'28007'</td>\n",
       "      <td>'M348934600'</td>\n",
       "      <td>'28007'</td>\n",
       "      <td>'es_transportation'</td>\n",
       "      <td>39.68</td>\n",
       "      <td>0</td>\n",
       "    </tr>\n",
       "    <tr>\n",
       "      <th>2</th>\n",
       "      <td>0</td>\n",
       "      <td>'C2054744914'</td>\n",
       "      <td>'4'</td>\n",
       "      <td>'F'</td>\n",
       "      <td>'28007'</td>\n",
       "      <td>'M1823072687'</td>\n",
       "      <td>'28007'</td>\n",
       "      <td>'es_transportation'</td>\n",
       "      <td>26.89</td>\n",
       "      <td>0</td>\n",
       "    </tr>\n",
       "    <tr>\n",
       "      <th>3</th>\n",
       "      <td>0</td>\n",
       "      <td>'C1760612790'</td>\n",
       "      <td>'3'</td>\n",
       "      <td>'M'</td>\n",
       "      <td>'28007'</td>\n",
       "      <td>'M348934600'</td>\n",
       "      <td>'28007'</td>\n",
       "      <td>'es_transportation'</td>\n",
       "      <td>17.25</td>\n",
       "      <td>0</td>\n",
       "    </tr>\n",
       "    <tr>\n",
       "      <th>4</th>\n",
       "      <td>0</td>\n",
       "      <td>'C757503768'</td>\n",
       "      <td>'5'</td>\n",
       "      <td>'M'</td>\n",
       "      <td>'28007'</td>\n",
       "      <td>'M348934600'</td>\n",
       "      <td>'28007'</td>\n",
       "      <td>'es_transportation'</td>\n",
       "      <td>35.72</td>\n",
       "      <td>0</td>\n",
       "    </tr>\n",
       "  </tbody>\n",
       "</table>\n",
       "</div>"
      ],
      "text/plain": [
       "   step       customer  age gender zipcodeOri       merchant zipMerchant  \\\n",
       "0     0  'C1093826151'  '4'    'M'    '28007'   'M348934600'     '28007'   \n",
       "1     0   'C352968107'  '2'    'M'    '28007'   'M348934600'     '28007'   \n",
       "2     0  'C2054744914'  '4'    'F'    '28007'  'M1823072687'     '28007'   \n",
       "3     0  'C1760612790'  '3'    'M'    '28007'   'M348934600'     '28007'   \n",
       "4     0   'C757503768'  '5'    'M'    '28007'   'M348934600'     '28007'   \n",
       "\n",
       "              category  amount  fraud  \n",
       "0  'es_transportation'    4.55      0  \n",
       "1  'es_transportation'   39.68      0  \n",
       "2  'es_transportation'   26.89      0  \n",
       "3  'es_transportation'   17.25      0  \n",
       "4  'es_transportation'   35.72      0  "
      ]
     },
     "execution_count": 3,
     "metadata": {},
     "output_type": "execute_result"
    }
   ],
   "source": [
    "data = pd.read_csv(\"../input/banksim1/bs140513_032310.csv\")\n",
    "data.head(5)"
   ]
  },
  {
   "cell_type": "code",
   "execution_count": 4,
   "id": "a98256e5",
   "metadata": {
    "execution": {
     "iopub.execute_input": "2024-09-08T16:39:31.515146Z",
     "iopub.status.busy": "2024-09-08T16:39:31.514184Z",
     "iopub.status.idle": "2024-09-08T16:39:31.639243Z",
     "shell.execute_reply": "2024-09-08T16:39:31.638081Z"
    },
    "papermill": {
     "duration": 0.13776,
     "end_time": "2024-09-08T16:39:31.641668",
     "exception": false,
     "start_time": "2024-09-08T16:39:31.503908",
     "status": "completed"
    },
    "tags": []
   },
   "outputs": [
    {
     "name": "stdout",
     "output_type": "stream",
     "text": [
      "Unique zipCodeOri values:  1\n",
      "Unique zipMerchant values:  1\n"
     ]
    }
   ],
   "source": [
    "print(\"Unique zipCodeOri values: \",data.zipcodeOri.nunique())\n",
    "print(\"Unique zipMerchant values: \",data.zipMerchant.nunique())\n",
    "# dropping zipcodeori and zipMerchant since they have only one unique value\n",
    "data_reduced = data.drop(['zipcodeOri','zipMerchant'],axis=1)"
   ]
  },
  {
   "cell_type": "code",
   "execution_count": 5,
   "id": "4a1b4d47",
   "metadata": {
    "execution": {
     "iopub.execute_input": "2024-09-08T16:39:31.661550Z",
     "iopub.status.busy": "2024-09-08T16:39:31.661114Z",
     "iopub.status.idle": "2024-09-08T16:39:31.668202Z",
     "shell.execute_reply": "2024-09-08T16:39:31.667141Z"
    },
    "papermill": {
     "duration": 0.01984,
     "end_time": "2024-09-08T16:39:31.670598",
     "exception": false,
     "start_time": "2024-09-08T16:39:31.650758",
     "status": "completed"
    },
    "tags": []
   },
   "outputs": [
    {
     "data": {
      "text/plain": [
       "Index(['step', 'customer', 'age', 'gender', 'merchant', 'category', 'amount',\n",
       "       'fraud'],\n",
       "      dtype='object')"
      ]
     },
     "execution_count": 5,
     "metadata": {},
     "output_type": "execute_result"
    }
   ],
   "source": [
    "data_reduced.columns"
   ]
  },
  {
   "cell_type": "code",
   "execution_count": 6,
   "id": "bbe8193d",
   "metadata": {
    "execution": {
     "iopub.execute_input": "2024-09-08T16:39:31.691393Z",
     "iopub.status.busy": "2024-09-08T16:39:31.690956Z",
     "iopub.status.idle": "2024-09-08T16:39:32.003483Z",
     "shell.execute_reply": "2024-09-08T16:39:32.002356Z"
    },
    "papermill": {
     "duration": 0.325868,
     "end_time": "2024-09-08T16:39:32.005715",
     "exception": false,
     "start_time": "2024-09-08T16:39:31.679847",
     "status": "completed"
    },
    "tags": []
   },
   "outputs": [
    {
     "data": {
      "text/html": [
       "<div>\n",
       "<style scoped>\n",
       "    .dataframe tbody tr th:only-of-type {\n",
       "        vertical-align: middle;\n",
       "    }\n",
       "\n",
       "    .dataframe tbody tr th {\n",
       "        vertical-align: top;\n",
       "    }\n",
       "\n",
       "    .dataframe thead th {\n",
       "        text-align: right;\n",
       "    }\n",
       "</style>\n",
       "<table border=\"1\" class=\"dataframe\">\n",
       "  <thead>\n",
       "    <tr style=\"text-align: right;\">\n",
       "      <th></th>\n",
       "      <th>step</th>\n",
       "      <th>customer</th>\n",
       "      <th>age</th>\n",
       "      <th>gender</th>\n",
       "      <th>merchant</th>\n",
       "      <th>category</th>\n",
       "      <th>amount</th>\n",
       "      <th>fraud</th>\n",
       "    </tr>\n",
       "  </thead>\n",
       "  <tbody>\n",
       "    <tr>\n",
       "      <th>0</th>\n",
       "      <td>0</td>\n",
       "      <td>210</td>\n",
       "      <td>4</td>\n",
       "      <td>2</td>\n",
       "      <td>30</td>\n",
       "      <td>12</td>\n",
       "      <td>4.55</td>\n",
       "      <td>0</td>\n",
       "    </tr>\n",
       "    <tr>\n",
       "      <th>1</th>\n",
       "      <td>0</td>\n",
       "      <td>2753</td>\n",
       "      <td>2</td>\n",
       "      <td>2</td>\n",
       "      <td>30</td>\n",
       "      <td>12</td>\n",
       "      <td>39.68</td>\n",
       "      <td>0</td>\n",
       "    </tr>\n",
       "    <tr>\n",
       "      <th>2</th>\n",
       "      <td>0</td>\n",
       "      <td>2285</td>\n",
       "      <td>4</td>\n",
       "      <td>1</td>\n",
       "      <td>18</td>\n",
       "      <td>12</td>\n",
       "      <td>26.89</td>\n",
       "      <td>0</td>\n",
       "    </tr>\n",
       "    <tr>\n",
       "      <th>3</th>\n",
       "      <td>0</td>\n",
       "      <td>1650</td>\n",
       "      <td>3</td>\n",
       "      <td>2</td>\n",
       "      <td>30</td>\n",
       "      <td>12</td>\n",
       "      <td>17.25</td>\n",
       "      <td>0</td>\n",
       "    </tr>\n",
       "    <tr>\n",
       "      <th>4</th>\n",
       "      <td>0</td>\n",
       "      <td>3585</td>\n",
       "      <td>5</td>\n",
       "      <td>2</td>\n",
       "      <td>30</td>\n",
       "      <td>12</td>\n",
       "      <td>35.72</td>\n",
       "      <td>0</td>\n",
       "    </tr>\n",
       "  </tbody>\n",
       "</table>\n",
       "</div>"
      ],
      "text/plain": [
       "   step  customer  age  gender  merchant  category  amount  fraud\n",
       "0     0       210    4       2        30        12    4.55      0\n",
       "1     0      2753    2       2        30        12   39.68      0\n",
       "2     0      2285    4       1        18        12   26.89      0\n",
       "3     0      1650    3       2        30        12   17.25      0\n",
       "4     0      3585    5       2        30        12   35.72      0"
      ]
     },
     "execution_count": 6,
     "metadata": {},
     "output_type": "execute_result"
    }
   ],
   "source": [
    "# turning object columns type to categorical for easing the transformation process\n",
    "col_categorical = data_reduced.select_dtypes(include= ['object']).columns\n",
    "for col in col_categorical:\n",
    "    data_reduced[col] = data_reduced[col].astype('category')\n",
    "# categorical values ==> numeric values\n",
    "data_reduced[col_categorical] = data_reduced[col_categorical].apply(lambda x: x.cat.codes)\n",
    "data_reduced.head(5)"
   ]
  },
  {
   "cell_type": "code",
   "execution_count": 7,
   "id": "6686e9d1",
   "metadata": {
    "execution": {
     "iopub.execute_input": "2024-09-08T16:39:32.027260Z",
     "iopub.status.busy": "2024-09-08T16:39:32.025970Z",
     "iopub.status.idle": "2024-09-08T16:39:32.050149Z",
     "shell.execute_reply": "2024-09-08T16:39:32.048774Z"
    },
    "papermill": {
     "duration": 0.037599,
     "end_time": "2024-09-08T16:39:32.052839",
     "exception": false,
     "start_time": "2024-09-08T16:39:32.015240",
     "status": "completed"
    },
    "tags": []
   },
   "outputs": [
    {
     "name": "stdout",
     "output_type": "stream",
     "text": [
      "   step  customer  age  gender  merchant  category  amount\n",
      "0     0       210    4       2        30        12    4.55\n",
      "1     0      2753    2       2        30        12   39.68\n",
      "2     0      2285    4       1        18        12   26.89\n",
      "3     0      1650    3       2        30        12   17.25\n",
      "4     0      3585    5       2        30        12   35.72 \n",
      "\n",
      "0    0\n",
      "1    0\n",
      "2    0\n",
      "3    0\n",
      "4    0\n",
      "Name: fraud, dtype: int64\n"
     ]
    }
   ],
   "source": [
    "X = data_reduced.drop(['fraud'],axis=1)\n",
    "y = data['fraud']\n",
    "print(X.head(),\"\\n\")\n",
    "print(y.head())"
   ]
  },
  {
   "cell_type": "code",
   "execution_count": 8,
   "id": "ea037d77",
   "metadata": {
    "execution": {
     "iopub.execute_input": "2024-09-08T16:39:32.073522Z",
     "iopub.status.busy": "2024-09-08T16:39:32.073085Z",
     "iopub.status.idle": "2024-09-08T16:39:32.083688Z",
     "shell.execute_reply": "2024-09-08T16:39:32.082652Z"
    },
    "papermill": {
     "duration": 0.023736,
     "end_time": "2024-09-08T16:39:32.086200",
     "exception": false,
     "start_time": "2024-09-08T16:39:32.062464",
     "status": "completed"
    },
    "tags": []
   },
   "outputs": [
    {
     "data": {
      "text/plain": [
       "7200"
      ]
     },
     "execution_count": 8,
     "metadata": {},
     "output_type": "execute_result"
    }
   ],
   "source": [
    "#Number of Fraud cases \n",
    "y[y==1].count()"
   ]
  },
  {
   "cell_type": "code",
   "execution_count": 9,
   "id": "2fc5c248",
   "metadata": {
    "execution": {
     "iopub.execute_input": "2024-09-08T16:39:32.107853Z",
     "iopub.status.busy": "2024-09-08T16:39:32.107429Z",
     "iopub.status.idle": "2024-09-08T16:39:32.120129Z",
     "shell.execute_reply": "2024-09-08T16:39:32.119023Z"
    },
    "papermill": {
     "duration": 0.025926,
     "end_time": "2024-09-08T16:39:32.122481",
     "exception": false,
     "start_time": "2024-09-08T16:39:32.096555",
     "status": "completed"
    },
    "tags": []
   },
   "outputs": [
    {
     "data": {
      "text/plain": [
       "587443"
      ]
     },
     "execution_count": 9,
     "metadata": {},
     "output_type": "execute_result"
    }
   ],
   "source": [
    "#Number of non fraud cases\n",
    "y[y==0].count()"
   ]
  },
  {
   "cell_type": "markdown",
   "id": "2498902d",
   "metadata": {
    "papermill": {
     "duration": 0.009487,
     "end_time": "2024-09-08T16:39:32.142412",
     "exception": false,
     "start_time": "2024-09-08T16:39:32.132925",
     "status": "completed"
    },
    "tags": []
   },
   "source": [
    "This shows there are 7200 postive fraudulent transactions"
   ]
  },
  {
   "cell_type": "code",
   "execution_count": 10,
   "id": "05c12a4b",
   "metadata": {
    "execution": {
     "iopub.execute_input": "2024-09-08T16:39:32.163357Z",
     "iopub.status.busy": "2024-09-08T16:39:32.162933Z",
     "iopub.status.idle": "2024-09-08T16:39:32.211705Z",
     "shell.execute_reply": "2024-09-08T16:39:32.210510Z"
    },
    "papermill": {
     "duration": 0.062093,
     "end_time": "2024-09-08T16:39:32.214139",
     "exception": false,
     "start_time": "2024-09-08T16:39:32.152046",
     "status": "completed"
    },
    "tags": []
   },
   "outputs": [
    {
     "name": "stdout",
     "output_type": "stream",
     "text": [
      "Size of data_fraud_0: (587443, 8)\n",
      "Size of data_fraud_1: (7200, 8)\n",
      "First few rows of data_fraud_0:\n",
      "    step  customer  age  gender  merchant  category  amount  fraud\n",
      "0     0       210    4       2        30        12    4.55      0\n",
      "1     0      2753    2       2        30        12   39.68      0\n",
      "2     0      2285    4       1        18        12   26.89      0\n",
      "3     0      1650    3       2        30        12   17.25      0\n",
      "4     0      3585    5       2        30        12   35.72      0\n",
      "First few rows of data_fraud_1:\n",
      "      step  customer  age  gender  merchant  category  amount  fraud\n",
      "88      0      3219    3       2        34         4   44.26      1\n",
      "89      0       723    3       2        34         4  324.50      1\n",
      "434     0       362    3       2        44         6  176.32      1\n",
      "435     0      4040    3       2        44         6  337.41      1\n",
      "553     0       969    4       1         2        14  220.11      1\n"
     ]
    }
   ],
   "source": [
    "data_fraud_0 = data_reduced[data_reduced['fraud'] == 0]\n",
    "data_fraud_1 = data_reduced[data_reduced['fraud'] == 1]\n",
    "\n",
    "# Check the size of each subset\n",
    "print(\"Size of data_fraud_0:\", data_fraud_0.shape)\n",
    "print(\"Size of data_fraud_1:\", data_fraud_1.shape)\n",
    "# Display first few rows of each subset to verify\n",
    "print(\"First few rows of data_fraud_0:\\n\", data_fraud_0.head())\n",
    "print(\"First few rows of data_fraud_1:\\n\", data_fraud_1.head())"
   ]
  },
  {
   "cell_type": "code",
   "execution_count": 11,
   "id": "622efb24",
   "metadata": {
    "execution": {
     "iopub.execute_input": "2024-09-08T16:39:32.235585Z",
     "iopub.status.busy": "2024-09-08T16:39:32.235132Z",
     "iopub.status.idle": "2024-09-08T16:39:32.403708Z",
     "shell.execute_reply": "2024-09-08T16:39:32.402648Z"
    },
    "papermill": {
     "duration": 0.182094,
     "end_time": "2024-09-08T16:39:32.406078",
     "exception": false,
     "start_time": "2024-09-08T16:39:32.223984",
     "status": "completed"
    },
    "tags": []
   },
   "outputs": [
    {
     "name": "stdout",
     "output_type": "stream",
     "text": [
      "Train set size: (352465, 8)\n",
      "Cross-validation set size: (121089, 8)\n",
      "Test set size: (121089, 8)\n",
      "Train set distribution:\n",
      " fraud\n",
      "0    352465\n",
      "Name: count, dtype: int64\n",
      "Cross-validation set distribution:\n",
      " fraud\n",
      "0    117489\n",
      "1      3600\n",
      "Name: count, dtype: int64\n",
      "Test set distribution:\n",
      " fraud\n",
      "0    117489\n",
      "1      3600\n",
      "Name: count, dtype: int64\n"
     ]
    }
   ],
   "source": [
    "# Assuming your dataset is already loaded into a DataFrame called data_reduced\n",
    "# data_reduced = pd.read_csv('path_to_your_csv_file.csv')\n",
    "\n",
    "# Separate the data based on the fraud column\n",
    "data_fraud_0 = data_reduced[data_reduced['fraud'] == 0]\n",
    "data_fraud_1 = data_reduced[data_reduced['fraud'] == 1]\n",
    "\n",
    "# Split the fraud=0 data into train (60%), temp (40%)\n",
    "train_fraud_0, temp_fraud_0 = train_test_split(data_fraud_0, test_size=0.4, random_state=42)\n",
    "\n",
    "# Split the temp data into cross-validation (50% of temp, i.e., 20% of original fraud=0) and test (50% of temp, i.e., 20% of original fraud=0)\n",
    "cv_fraud_0, test_fraud_0 = train_test_split(temp_fraud_0, test_size=0.5, random_state=42)\n",
    "\n",
    "# Split the fraud=1 data into cross-validation (50%) and test (50%)\n",
    "cv_fraud_1, test_fraud_1 = train_test_split(data_fraud_1, test_size=0.5, random_state=42)\n",
    "\n",
    "# Combine splits to create final train, cross-validation, and test sets\n",
    "train_set = train_fraud_0\n",
    "cv_set = pd.concat([cv_fraud_0, cv_fraud_1])\n",
    "test_set = pd.concat([test_fraud_0, test_fraud_1])\n",
    "\n",
    "# Check the results\n",
    "print(\"Train set size:\", train_set.shape)\n",
    "print(\"Cross-validation set size:\", cv_set.shape)\n",
    "print(\"Test set size:\", test_set.shape)\n",
    "print(\"Train set distribution:\\n\", train_set['fraud'].value_counts())\n",
    "print(\"Cross-validation set distribution:\\n\", cv_set['fraud'].value_counts())\n",
    "print(\"Test set distribution:\\n\", test_set['fraud'].value_counts())"
   ]
  },
  {
   "cell_type": "code",
   "execution_count": 12,
   "id": "921ebd05",
   "metadata": {
    "execution": {
     "iopub.execute_input": "2024-09-08T16:39:32.427676Z",
     "iopub.status.busy": "2024-09-08T16:39:32.427250Z",
     "iopub.status.idle": "2024-09-08T16:39:32.448330Z",
     "shell.execute_reply": "2024-09-08T16:39:32.446939Z"
    },
    "papermill": {
     "duration": 0.034657,
     "end_time": "2024-09-08T16:39:32.450713",
     "exception": false,
     "start_time": "2024-09-08T16:39:32.416056",
     "status": "completed"
    },
    "tags": []
   },
   "outputs": [
    {
     "name": "stdout",
     "output_type": "stream",
     "text": [
      "        category  amount\n",
      "404873        12   10.86\n",
      "140213        12   21.10\n",
      "431098        12   55.22\n",
      "264017         9   41.64\n",
      "296327        12   22.28 \n",
      "\n",
      "        category  amount\n",
      "542826        12   10.89\n",
      "198605         0   63.06\n",
      "169541         2   56.32\n",
      "476894        12   46.69\n",
      "482791         4  300.57\n"
     ]
    }
   ],
   "source": [
    "#removing the not very useful features in my opinion, tweaking with gender and age it's a little hard to tell if these are relevant\n",
    "X_train = train_set.drop(['fraud', 'step', 'customer', 'merchant', 'gender', 'age'],axis=1)\n",
    "X_cv = cv_set.drop(['fraud', 'step', 'customer', 'merchant', 'gender', 'age'],axis=1)\n",
    "Y_cv = cv_set['fraud']\n",
    "X_test = test_set.drop(['fraud', 'step', 'customer', 'merchant', 'gender', 'age'],axis=1)\n",
    "Y_test = test_set['fraud']\n",
    "y = data['fraud']\n",
    "print(X_train.head(),\"\\n\")\n",
    "print(X_cv.head())"
   ]
  },
  {
   "cell_type": "code",
   "execution_count": 13,
   "id": "0c73ee35",
   "metadata": {
    "execution": {
     "iopub.execute_input": "2024-09-08T16:39:32.472914Z",
     "iopub.status.busy": "2024-09-08T16:39:32.472518Z",
     "iopub.status.idle": "2024-09-08T16:39:32.500213Z",
     "shell.execute_reply": "2024-09-08T16:39:32.499139Z"
    },
    "papermill": {
     "duration": 0.041629,
     "end_time": "2024-09-08T16:39:32.502788",
     "exception": false,
     "start_time": "2024-09-08T16:39:32.461159",
     "status": "completed"
    },
    "tags": []
   },
   "outputs": [
    {
     "name": "stdout",
     "output_type": "stream",
     "text": [
      "        category    amount\n",
      "404873        12  2.473171\n",
      "140213        12  3.095578\n",
      "431098        12  4.029273\n",
      "264017         9  3.752793\n",
      "296327        12  3.147595 \n",
      "\n",
      "        category    amount\n",
      "542826        12  2.475698\n",
      "198605         0  4.159820\n",
      "169541         2  4.048650\n",
      "476894        12  3.864722\n",
      "482791         4  5.709002\n"
     ]
    }
   ],
   "source": [
    "#transform the data to make is more normally distributed \n",
    "X_train['amount'] = np.log1p(X_train['amount'])\n",
    "\n",
    "X_cv['amount'] = np.log1p(X_cv['amount'])\n",
    "\n",
    "X_test['amount'] = np.log1p(X_test['amount'])\n",
    "\n",
    "print(X_train.head(),\"\\n\")\n",
    "print(X_cv.head())\n",
    "\n",
    "\n"
   ]
  },
  {
   "cell_type": "code",
   "execution_count": 14,
   "id": "cd33d41a",
   "metadata": {
    "execution": {
     "iopub.execute_input": "2024-09-08T16:39:32.525015Z",
     "iopub.status.busy": "2024-09-08T16:39:32.523938Z",
     "iopub.status.idle": "2024-09-08T16:39:32.529251Z",
     "shell.execute_reply": "2024-09-08T16:39:32.528210Z"
    },
    "papermill": {
     "duration": 0.018785,
     "end_time": "2024-09-08T16:39:32.531589",
     "exception": false,
     "start_time": "2024-09-08T16:39:32.512804",
     "status": "completed"
    },
    "tags": []
   },
   "outputs": [],
   "source": [
    "#Lets put this feature on hold\n",
    "##X_train['log_age_amount'] = np.log1p(X_train['age'] * X_train['amount'])\n",
    "##X_cv['log_age_amount'] = np.log1p(X_cv['age'] * X_cv['amount'])\n",
    "##X_test['log_age_amount'] = np.log1p(X_test['age'] * X_test['amount'])"
   ]
  },
  {
   "cell_type": "code",
   "execution_count": 15,
   "id": "dfed5ae6",
   "metadata": {
    "execution": {
     "iopub.execute_input": "2024-09-08T16:39:32.553784Z",
     "iopub.status.busy": "2024-09-08T16:39:32.553076Z",
     "iopub.status.idle": "2024-09-08T16:39:32.557809Z",
     "shell.execute_reply": "2024-09-08T16:39:32.556849Z"
    },
    "papermill": {
     "duration": 0.018094,
     "end_time": "2024-09-08T16:39:32.559845",
     "exception": false,
     "start_time": "2024-09-08T16:39:32.541751",
     "status": "completed"
    },
    "tags": []
   },
   "outputs": [],
   "source": [
    "#One hot encoding the age and category and gender features\n",
    "#X_train = pd.get_dummies(X_train, columns=['age'], prefix='age')\n",
    "#X_cv = pd.get_dummies(X_cv, columns=['age'], prefix='age')\n",
    "#X_test = pd.get_dummies(X_test, columns=['age'], prefix='age')\n",
    "\n",
    "#X_train = pd.get_dummies(X_train, columns=['gender'], prefix='gender')\n",
    "#X_cv = pd.get_dummies(X_cv, columns=['gender'], prefix='gender')\n",
    "#X_test = pd.get_dummies(X_test, columns=['gender'], prefix='gender')\n",
    "\n",
    "#X_train = pd.get_dummies(X_train, columns=['category'], prefix='category')\n",
    "#X_cv = pd.get_dummies(X_cv, columns=['category'], prefix='category')\n",
    "#X_test = pd.get_dummies(X_test, columns=['category'], prefix='category')\n"
   ]
  },
  {
   "cell_type": "code",
   "execution_count": 16,
   "id": "c7ff351a",
   "metadata": {
    "execution": {
     "iopub.execute_input": "2024-09-08T16:39:32.581639Z",
     "iopub.status.busy": "2024-09-08T16:39:32.581208Z",
     "iopub.status.idle": "2024-09-08T16:39:32.586517Z",
     "shell.execute_reply": "2024-09-08T16:39:32.585470Z"
    },
    "papermill": {
     "duration": 0.018923,
     "end_time": "2024-09-08T16:39:32.588798",
     "exception": false,
     "start_time": "2024-09-08T16:39:32.569875",
     "status": "completed"
    },
    "tags": []
   },
   "outputs": [],
   "source": [
    "## can't seem to do this, not enough memory \n",
    "#import pandas as pd\n",
    "#from itertools import combinations\n",
    "\n",
    "#one_hot_columns = [col for col in X_train.columns if col.startswith('age_') or col.startswith('gender_') or col.startswith('category_')]\n",
    "\n",
    "# Dictionary to hold new columns\n",
    "#new_columns = {}\n",
    "\n",
    "# Create interaction features\n",
    "#for combo in combinations(one_hot_columns, 2):\n",
    "#    feature_name = f\"{combo[0]}_x_{combo[1]}\"\n",
    "#    new_columns[feature_name] = X_train[combo[0]] * X_train[combo[1]]\n",
    "\n",
    "# Convert dictionary to DataFrame\n",
    "#new_columns_df = pd.DataFrame(new_columns)\n",
    "\n",
    "# Concatenate new columns to original DataFrame\n",
    "#X_train = pd.concat([X_train, new_columns_df], axis=1)\n",
    "\n",
    "# Continue with further feature engineering steps\n",
    "# Binning log(amount) and log(age * amount)\n",
    "#X_train['log_amount_binned'] = pd.cut(X_train['amount'], bins=10)\n",
    "#X_train['log_age_amount_binned'] = pd.cut(X_train['log_age_amount'], bins=10)\n",
    "#X_train = pd.get_dummies(X_train, columns=['log_amount_binned', 'log_age_amount_binned'])"
   ]
  },
  {
   "cell_type": "code",
   "execution_count": 17,
   "id": "4849d141",
   "metadata": {
    "execution": {
     "iopub.execute_input": "2024-09-08T16:39:32.610647Z",
     "iopub.status.busy": "2024-09-08T16:39:32.610218Z",
     "iopub.status.idle": "2024-09-08T16:39:32.646372Z",
     "shell.execute_reply": "2024-09-08T16:39:32.645142Z"
    },
    "papermill": {
     "duration": 0.050074,
     "end_time": "2024-09-08T16:39:32.649087",
     "exception": false,
     "start_time": "2024-09-08T16:39:32.599013",
     "status": "completed"
    },
    "tags": []
   },
   "outputs": [
    {
     "name": "stdout",
     "output_type": "stream",
     "text": [
      "        category    amount binned_log_amount\n",
      "404873        12  2.473171    (2.279, 3.039]\n",
      "140213        12  3.095578    (3.039, 3.799]\n",
      "431098        12  4.029273    (3.799, 4.559]\n",
      "264017         9  3.752793    (3.039, 3.799]\n",
      "296327        12  3.147595    (3.039, 3.799]\n",
      "...          ...       ...               ...\n",
      "111898         7  3.313822    (3.039, 3.799]\n",
      "262686        12  2.805177    (2.279, 3.039]\n",
      "370594        12  3.413784    (3.039, 3.799]\n",
      "133844        12  3.138100    (3.039, 3.799]\n",
      "123736        12  4.146779    (3.799, 4.559]\n",
      "\n",
      "[352465 rows x 3 columns]\n"
     ]
    }
   ],
   "source": [
    "# Binning log(amount) for the training set\n",
    "X_train['binned_log_amount'] = pd.cut(X_train['amount'], bins=10)\n",
    "\n",
    "\n",
    "print(X_train)"
   ]
  },
  {
   "cell_type": "code",
   "execution_count": 18,
   "id": "3db631f0",
   "metadata": {
    "execution": {
     "iopub.execute_input": "2024-09-08T16:39:32.671917Z",
     "iopub.status.busy": "2024-09-08T16:39:32.671488Z",
     "iopub.status.idle": "2024-09-08T16:39:32.683377Z",
     "shell.execute_reply": "2024-09-08T16:39:32.682267Z"
    },
    "papermill": {
     "duration": 0.026087,
     "end_time": "2024-09-08T16:39:32.686013",
     "exception": false,
     "start_time": "2024-09-08T16:39:32.659926",
     "status": "completed"
    },
    "tags": []
   },
   "outputs": [],
   "source": [
    "# Binning log(amount) for the cross validation set \n",
    "X_cv['binned_log_amount'] = pd.cut(X_cv['amount'], bins=10)\n"
   ]
  },
  {
   "cell_type": "code",
   "execution_count": 19,
   "id": "0fa63da2",
   "metadata": {
    "execution": {
     "iopub.execute_input": "2024-09-08T16:39:32.708439Z",
     "iopub.status.busy": "2024-09-08T16:39:32.708007Z",
     "iopub.status.idle": "2024-09-08T16:39:32.720621Z",
     "shell.execute_reply": "2024-09-08T16:39:32.719388Z"
    },
    "papermill": {
     "duration": 0.026772,
     "end_time": "2024-09-08T16:39:32.723352",
     "exception": false,
     "start_time": "2024-09-08T16:39:32.696580",
     "status": "completed"
    },
    "tags": []
   },
   "outputs": [],
   "source": [
    "# Binning log(amount) for the test set \n",
    "X_test['binned_log_amount'] = pd.cut(X_test['amount'], bins=10)\n"
   ]
  },
  {
   "cell_type": "code",
   "execution_count": 20,
   "id": "4ae464f0",
   "metadata": {
    "execution": {
     "iopub.execute_input": "2024-09-08T16:39:32.745404Z",
     "iopub.status.busy": "2024-09-08T16:39:32.744937Z",
     "iopub.status.idle": "2024-09-08T16:39:32.749635Z",
     "shell.execute_reply": "2024-09-08T16:39:32.748406Z"
    },
    "papermill": {
     "duration": 0.018439,
     "end_time": "2024-09-08T16:39:32.751984",
     "exception": false,
     "start_time": "2024-09-08T16:39:32.733545",
     "status": "completed"
    },
    "tags": []
   },
   "outputs": [],
   "source": [
    "# Plot Histogram to see the distribution of data\n",
    "#plt.hist(X_train['log_age_amount'], bins = 50)"
   ]
  },
  {
   "cell_type": "code",
   "execution_count": 21,
   "id": "d5dc8085",
   "metadata": {
    "execution": {
     "iopub.execute_input": "2024-09-08T16:39:32.773857Z",
     "iopub.status.busy": "2024-09-08T16:39:32.773436Z",
     "iopub.status.idle": "2024-09-08T16:39:32.778378Z",
     "shell.execute_reply": "2024-09-08T16:39:32.777373Z"
    },
    "papermill": {
     "duration": 0.018505,
     "end_time": "2024-09-08T16:39:32.780667",
     "exception": false,
     "start_time": "2024-09-08T16:39:32.762162",
     "status": "completed"
    },
    "tags": []
   },
   "outputs": [],
   "source": [
    "#seeing some patterns in the cv dataset where transactions are a fraud \n",
    "#fraud_data = cv_set[cv_set['fraud'] == 1]\n",
    "\n",
    "#plt.hist(fraud_data['category'], bins=50, alpha=0.7, color='blue')\n",
    "#plt.title('Histogram of log_age_amount for fraud = 1')\n",
    "#plt.xlabel('category')\n",
    "#plt.ylabel('Frequency')\n",
    "#plt.show()"
   ]
  },
  {
   "cell_type": "code",
   "execution_count": 22,
   "id": "b0732292",
   "metadata": {
    "execution": {
     "iopub.execute_input": "2024-09-08T16:39:32.803510Z",
     "iopub.status.busy": "2024-09-08T16:39:32.802735Z",
     "iopub.status.idle": "2024-09-08T16:39:32.824243Z",
     "shell.execute_reply": "2024-09-08T16:39:32.822905Z"
    },
    "papermill": {
     "duration": 0.035743,
     "end_time": "2024-09-08T16:39:32.827005",
     "exception": false,
     "start_time": "2024-09-08T16:39:32.791262",
     "status": "completed"
    },
    "tags": []
   },
   "outputs": [],
   "source": [
    "from sklearn.preprocessing import StandardScaler\n",
    "\n",
    "# Convert binned intervals to categorical codes\n",
    "X_train['binned_log_amount_code'] = X_train['binned_log_amount'].cat.codes\n",
    "\n",
    "# Standardize the numeric codes\n",
    "scaler = StandardScaler()\n",
    "X_train[['binned_log_amount_code']] = scaler.fit_transform(X_train[['binned_log_amount_code']])\n",
    "#X_train = scaler.fit_transform(X_train[['category', 'amount', 'binned_log_amount_code']])\n",
    "X_train = X_train.drop(columns = 'binned_log_amount')"
   ]
  },
  {
   "cell_type": "code",
   "execution_count": 23,
   "id": "86f7dd63",
   "metadata": {
    "execution": {
     "iopub.execute_input": "2024-09-08T16:39:32.848964Z",
     "iopub.status.busy": "2024-09-08T16:39:32.848539Z",
     "iopub.status.idle": "2024-09-08T16:39:32.866182Z",
     "shell.execute_reply": "2024-09-08T16:39:32.864553Z"
    },
    "papermill": {
     "duration": 0.031518,
     "end_time": "2024-09-08T16:39:32.868668",
     "exception": false,
     "start_time": "2024-09-08T16:39:32.837150",
     "status": "completed"
    },
    "tags": []
   },
   "outputs": [
    {
     "name": "stdout",
     "output_type": "stream",
     "text": [
      "        category    amount  binned_log_amount_code\n",
      "542826        12  2.475698               -0.942246\n",
      "198605         0  4.159820                0.763041\n",
      "169541         2  4.048650                0.763041\n",
      "476894        12  3.864722                0.763041\n",
      "482791         4  5.709002                2.468327\n",
      "...          ...       ...                     ...\n",
      "285236        13  6.180141                2.468327\n",
      "409345        10  5.707841                2.468327\n",
      "412734         7  4.500587                1.615684\n",
      "427654         4  5.497004                2.468327\n",
      "55957         13  5.931290                2.468327\n",
      "\n",
      "[121089 rows x 3 columns]\n"
     ]
    }
   ],
   "source": [
    "from sklearn.preprocessing import StandardScaler\n",
    "\n",
    "# Convert binned intervals to categorical codes\n",
    "X_cv['binned_log_amount_code'] = X_cv['binned_log_amount'].cat.codes\n",
    "\n",
    "# Standardize the numeric codes\n",
    "scaler = StandardScaler()\n",
    "X_cv[['binned_log_amount_code']] = scaler.fit_transform(X_cv[['binned_log_amount_code']])\n",
    "#X_cv = scaler.fit_transform(X_cv[['category', 'amount', 'binned_log_amount_code']])\n",
    "\n",
    "X_cv = X_cv.drop(columns = 'binned_log_amount')\n",
    "print(X_cv)\n",
    "\n"
   ]
  },
  {
   "cell_type": "code",
   "execution_count": 24,
   "id": "ce3136b4",
   "metadata": {
    "execution": {
     "iopub.execute_input": "2024-09-08T16:39:32.891835Z",
     "iopub.status.busy": "2024-09-08T16:39:32.891425Z",
     "iopub.status.idle": "2024-09-08T16:39:32.909010Z",
     "shell.execute_reply": "2024-09-08T16:39:32.907918Z"
    },
    "papermill": {
     "duration": 0.032117,
     "end_time": "2024-09-08T16:39:32.911725",
     "exception": false,
     "start_time": "2024-09-08T16:39:32.879608",
     "status": "completed"
    },
    "tags": []
   },
   "outputs": [
    {
     "name": "stdout",
     "output_type": "stream",
     "text": [
      "        category    amount  binned_log_amount_code\n",
      "509545        12  3.496811               -0.064878\n",
      "267149        12  3.383373               -0.064878\n",
      "574347        12  3.752558                0.798234\n",
      "127296        12  3.733614                0.798234\n",
      "530626        12  2.149434               -0.927990\n",
      "...          ...       ...                     ...\n",
      "465368         4  6.384587                3.387569\n",
      "584518         6  4.856318                1.661346\n",
      "570587        10  6.499125                3.387569\n",
      "288705        14  4.090002                0.798234\n",
      "205904        10  6.489630                3.387569\n",
      "\n",
      "[121089 rows x 3 columns]\n"
     ]
    }
   ],
   "source": [
    "\n",
    "from sklearn.preprocessing import StandardScaler\n",
    "# Convert binned intervals to categorical codes\n",
    "X_test['binned_log_amount_code'] = X_test['binned_log_amount'].cat.codes\n",
    "\n",
    "# Standardize the numeric codes\n",
    "scaler = StandardScaler()\n",
    "X_test[['binned_log_amount_code']] = scaler.fit_transform(X_test[['binned_log_amount_code']])\n",
    "#X_test = scaler.fit_transform(X_test[['category', 'amount', 'binned_log_amount_code']])\n",
    "\n",
    "X_test = X_test.drop(columns = 'binned_log_amount')\n",
    "\n",
    "print(X_test)\n",
    "\n"
   ]
  },
  {
   "cell_type": "code",
   "execution_count": 25,
   "id": "0c56926a",
   "metadata": {
    "execution": {
     "iopub.execute_input": "2024-09-08T16:39:32.933992Z",
     "iopub.status.busy": "2024-09-08T16:39:32.933558Z",
     "iopub.status.idle": "2024-09-08T16:39:32.938786Z",
     "shell.execute_reply": "2024-09-08T16:39:32.937622Z"
    },
    "papermill": {
     "duration": 0.018871,
     "end_time": "2024-09-08T16:39:32.940947",
     "exception": false,
     "start_time": "2024-09-08T16:39:32.922076",
     "status": "completed"
    },
    "tags": []
   },
   "outputs": [],
   "source": [
    "#def estimate_gaussian(X): \n",
    "#    \"\"\"\n",
    "#    Calculates mean and variance of all features \n",
    "#    in the dataset\n",
    "    \n",
    "#    Args:\n",
    "#        X (ndarray): (m, n) Data matrix\n",
    "    \n",
    "#    Returns:\n",
    "#        mu (ndarray): (n,) Mean of all features\n",
    "#        var (ndarray): (n,) Variance of all features\n",
    "#    \"\"\"\n",
    "\n",
    "#    m, n = X.shape\n",
    "    \n",
    "    ### START CODE HERE ### \n",
    "#    mu = np.sum(X, axis = 0)\n",
    "#    mu = mu / m\n",
    "#    var = np.sum((X - mu)**2, axis = 0)\n",
    "#    var = var / m\n",
    "    \n",
    "    ### END CODE HERE ### \n",
    "        \n",
    "#    return mu, var"
   ]
  },
  {
   "cell_type": "code",
   "execution_count": 26,
   "id": "5feb3c27",
   "metadata": {
    "execution": {
     "iopub.execute_input": "2024-09-08T16:39:32.963137Z",
     "iopub.status.busy": "2024-09-08T16:39:32.962730Z",
     "iopub.status.idle": "2024-09-08T16:39:32.972801Z",
     "shell.execute_reply": "2024-09-08T16:39:32.971683Z"
    },
    "papermill": {
     "duration": 0.023819,
     "end_time": "2024-09-08T16:39:32.975089",
     "exception": false,
     "start_time": "2024-09-08T16:39:32.951270",
     "status": "completed"
    },
    "tags": []
   },
   "outputs": [],
   "source": [
    "import numpy as np\n",
    "\n",
    "def select_threshold(y_val, p_val):\n",
    "    \"\"\"\n",
    "    Finds the best threshold to use for selecting outliers \n",
    "    based on the results from a validation set (p_val) \n",
    "    and the ground truth (y_val).\n",
    "    \n",
    "    Args:\n",
    "        y_val (ndarray): Ground truth on validation set\n",
    "        p_val (ndarray): Results on validation set (probabilities)\n",
    "        \n",
    "    Returns:\n",
    "        epsilon (float): Threshold chosen \n",
    "        best_F1 (float): Best F1 score by choosing epsilon as threshold\n",
    "    \"\"\" \n",
    "\n",
    "    best_epsilon = 0\n",
    "    best_F1 = 0\n",
    "    \n",
    "    # Calculate the step size safely\n",
    "    min_p = min(p_val)\n",
    "    max_p = max(p_val)\n",
    "    step_size = (max_p - min_p) / 1000\n",
    "    \n",
    "    if step_size == 0:\n",
    "        # If step size is zero, it means all p_val are identical\n",
    "        # Use a very small fixed step size to explore potential thresholds\n",
    "        step_size = 1e-10\n",
    "\n",
    "    for epsilon in np.arange(min_p, max_p, step_size):\n",
    "    \n",
    "        # Predictions based on the current threshold\n",
    "        prediction = (p_val < epsilon)\n",
    "        \n",
    "        # True positives, false positives, false negatives\n",
    "        tp = np.sum((prediction == 1) & (y_val == 1))\n",
    "        fp = np.sum((prediction == 1) & (y_val == 0))\n",
    "        fn = np.sum((prediction == 0) & (y_val == 1))\n",
    "        \n",
    "        # Calculate precision and recall safely\n",
    "        prec = tp / (tp + fp) if (tp + fp) > 0 else 0\n",
    "        rec = tp / (tp + fn) if (tp + fn) > 0 else 0\n",
    "        \n",
    "        # Calculate F1 score safely\n",
    "        if prec > 0 or rec > 0:  # Only calculate F1 if both prec and rec are non-zero\n",
    "            F1 = (2 * prec * rec) / (prec + rec)\n",
    "        else:\n",
    "            F1 = 0\n",
    "        \n",
    "        # Update best F1 and epsilon if the current F1 is better\n",
    "        if F1 > best_F1:\n",
    "            best_F1 = F1\n",
    "            best_epsilon = epsilon\n",
    "    \n",
    "    return best_epsilon, best_F1\n",
    "\n"
   ]
  },
  {
   "cell_type": "code",
   "execution_count": 27,
   "id": "76e427d3",
   "metadata": {
    "execution": {
     "iopub.execute_input": "2024-09-08T16:39:32.997421Z",
     "iopub.status.busy": "2024-09-08T16:39:32.996959Z",
     "iopub.status.idle": "2024-09-08T16:39:33.004787Z",
     "shell.execute_reply": "2024-09-08T16:39:33.003662Z"
    },
    "papermill": {
     "duration": 0.021677,
     "end_time": "2024-09-08T16:39:33.007062",
     "exception": false,
     "start_time": "2024-09-08T16:39:32.985385",
     "status": "completed"
    },
    "tags": []
   },
   "outputs": [],
   "source": [
    "\n",
    "def multivariate_gaussian_pdf(X, mean_vector, cov_matrix):\n",
    "    \"\"\"\n",
    "    Calculate the multivariate Gaussian probability density function for a dataset X.\n",
    "\n",
    "    Parameters:\n",
    "    - X: A 2D array where each row represents a data point.\n",
    "    - mean_vector: Mean vector of the Gaussian distribution.\n",
    "    - cov_matrix: Covariance matrix of the Gaussian distribution.\n",
    "\n",
    "    Returns:\n",
    "    - probs: A 1D array of probabilities for each data point.\n",
    "    \"\"\"\n",
    "    n = X.shape[1]  # Number of features\n",
    "    \n",
    "    # Ensure mean_vector is a 1-dimensional array\n",
    "    mean_vector = np.asarray(mean_vector).reshape(-1)\n",
    "    \n",
    "    # Ensure cov_matrix is a 2-dimensional array\n",
    "    cov_matrix = np.atleast_2d(cov_matrix)\n",
    "    \n",
    "    # Check dimensions\n",
    "    assert mean_vector.shape[0] == n, f\"Mean vector dimensions do not match number of features: {mean_vector.shape[0]} != {n}\"\n",
    "    assert cov_matrix.shape == (n, n), f\"Covariance matrix dimensions are incorrect: {cov_matrix.shape} != ({n}, {n})\"\n",
    "    \n",
    "    # Calculate the exponent\n",
    "    diff = X - mean_vector\n",
    "    exponent = -0.5 * np.sum(diff @ np.linalg.inv(cov_matrix) * diff, axis=1)\n",
    "    \n",
    "    # Calculate the denominator\n",
    "    denom = np.sqrt((2 * np.pi) ** n * np.linalg.det(cov_matrix))\n",
    "    \n",
    "    # Calculate the probabilities\n",
    "    probs = np.exp(exponent) / denom\n",
    "    return probs"
   ]
  },
  {
   "cell_type": "code",
   "execution_count": 28,
   "id": "afb7e0d1",
   "metadata": {
    "execution": {
     "iopub.execute_input": "2024-09-08T16:39:33.029304Z",
     "iopub.status.busy": "2024-09-08T16:39:33.028606Z",
     "iopub.status.idle": "2024-09-08T16:39:33.052977Z",
     "shell.execute_reply": "2024-09-08T16:39:33.051872Z"
    },
    "papermill": {
     "duration": 0.038271,
     "end_time": "2024-09-08T16:39:33.055639",
     "exception": false,
     "start_time": "2024-09-08T16:39:33.017368",
     "status": "completed"
    },
    "tags": []
   },
   "outputs": [],
   "source": [
    "#Calculate mean and covariance matrix \n",
    "mu_high = np.mean(X_train, axis=0)\n",
    "cov_matrix = np.cov(X_train, rowvar=False)"
   ]
  },
  {
   "cell_type": "code",
   "execution_count": 29,
   "id": "be9b6b10",
   "metadata": {
    "execution": {
     "iopub.execute_input": "2024-09-08T16:39:33.078388Z",
     "iopub.status.busy": "2024-09-08T16:39:33.077389Z",
     "iopub.status.idle": "2024-09-08T16:39:33.258123Z",
     "shell.execute_reply": "2024-09-08T16:39:33.256565Z"
    },
    "papermill": {
     "duration": 0.194696,
     "end_time": "2024-09-08T16:39:33.260647",
     "exception": false,
     "start_time": "2024-09-08T16:39:33.065951",
     "status": "completed"
    },
    "tags": []
   },
   "outputs": [
    {
     "name": "stdout",
     "output_type": "stream",
     "text": [
      "404873    0.10822\n",
      "140213    0.10822\n",
      "431098    0.10822\n",
      "264017    0.10822\n",
      "296327    0.10822\n",
      "           ...   \n",
      "111898    0.10822\n",
      "262686    0.10822\n",
      "370594    0.10822\n",
      "133844    0.10822\n",
      "123736    0.10822\n",
      "Length: 352465, dtype: float64\n"
     ]
    }
   ],
   "source": [
    "\n",
    "# Evaluate the probabilites for the training set\n",
    "p_high = multivariate_gaussian_pdf(X_train, mu_high, cov_matrix)\n",
    "print(p_high)\n"
   ]
  },
  {
   "cell_type": "code",
   "execution_count": 30,
   "id": "e3692a86",
   "metadata": {
    "execution": {
     "iopub.execute_input": "2024-09-08T16:39:33.285011Z",
     "iopub.status.busy": "2024-09-08T16:39:33.283998Z",
     "iopub.status.idle": "2024-09-08T16:39:33.362621Z",
     "shell.execute_reply": "2024-09-08T16:39:33.361460Z"
    },
    "papermill": {
     "duration": 0.094872,
     "end_time": "2024-09-08T16:39:33.365866",
     "exception": false,
     "start_time": "2024-09-08T16:39:33.270994",
     "status": "completed"
    },
    "tags": []
   },
   "outputs": [
    {
     "name": "stdout",
     "output_type": "stream",
     "text": [
      "542826    0.10822\n",
      "198605    0.10822\n",
      "169541    0.10822\n",
      "476894    0.10822\n",
      "482791    0.10822\n",
      "           ...   \n",
      "285236    0.10822\n",
      "409345    0.10822\n",
      "412734    0.10822\n",
      "427654    0.10822\n",
      "55957     0.10822\n",
      "Length: 121089, dtype: float64\n"
     ]
    }
   ],
   "source": [
    "# Evaluate the probabilites for the cross validation set\n",
    "p_val_high = multivariate_gaussian_pdf(X_cv, mu_high, cov_matrix)\n",
    "print(p_val_high)\n",
    "\n"
   ]
  },
  {
   "cell_type": "code",
   "execution_count": 31,
   "id": "8a36d567",
   "metadata": {
    "execution": {
     "iopub.execute_input": "2024-09-08T16:39:33.405063Z",
     "iopub.status.busy": "2024-09-08T16:39:33.404487Z",
     "iopub.status.idle": "2024-09-08T16:39:33.471281Z",
     "shell.execute_reply": "2024-09-08T16:39:33.469795Z"
    },
    "papermill": {
     "duration": 0.089771,
     "end_time": "2024-09-08T16:39:33.474009",
     "exception": false,
     "start_time": "2024-09-08T16:39:33.384238",
     "status": "completed"
    },
    "tags": []
   },
   "outputs": [
    {
     "name": "stdout",
     "output_type": "stream",
     "text": [
      "Best epsilon found using cross-validation: 0.000000e+00\n",
      "Best F1 on Cross Validation Set:  0.000000\n",
      "# Anomalies found: 0\n"
     ]
    }
   ],
   "source": [
    "# Find the best threshold\n",
    "epsilon_high, F1_high = select_threshold(Y_cv, p_val_high)\n",
    "\n",
    "print('Best epsilon found using cross-validation: %e'% epsilon_high)\n",
    "print('Best F1 on Cross Validation Set:  %f'% F1_high)\n",
    "print('# Anomalies found: %d'% sum(p_high < epsilon_high))"
   ]
  },
  {
   "cell_type": "code",
   "execution_count": 32,
   "id": "84e63348",
   "metadata": {
    "execution": {
     "iopub.execute_input": "2024-09-08T16:39:33.497045Z",
     "iopub.status.busy": "2024-09-08T16:39:33.496626Z",
     "iopub.status.idle": "2024-09-08T16:39:33.744139Z",
     "shell.execute_reply": "2024-09-08T16:39:33.742921Z"
    },
    "papermill": {
     "duration": 0.262181,
     "end_time": "2024-09-08T16:39:33.747100",
     "exception": false,
     "start_time": "2024-09-08T16:39:33.484919",
     "status": "completed"
    },
    "tags": []
   },
   "outputs": [],
   "source": [
    "from sklearn.decomposition import PCA\n",
    "\n",
    "# Apply PCA\n",
    "pca = PCA(n_components=0.95)  # Keep 95% of variance\n",
    "X_train_reduced = pca.fit_transform(X_train)\n",
    "\n",
    "# Recalculate mean and covariance\n",
    "mu_reduced = np.mean(X_train_reduced, axis=0)\n",
    "cov_matrix_reduced = np.cov(X_train_reduced, rowvar=False)"
   ]
  },
  {
   "cell_type": "code",
   "execution_count": 33,
   "id": "7b8f882c",
   "metadata": {
    "execution": {
     "iopub.execute_input": "2024-09-08T16:39:33.779913Z",
     "iopub.status.busy": "2024-09-08T16:39:33.779438Z",
     "iopub.status.idle": "2024-09-08T16:39:33.792466Z",
     "shell.execute_reply": "2024-09-08T16:39:33.791461Z"
    },
    "papermill": {
     "duration": 0.032818,
     "end_time": "2024-09-08T16:39:33.795561",
     "exception": false,
     "start_time": "2024-09-08T16:39:33.762743",
     "status": "completed"
    },
    "tags": []
   },
   "outputs": [],
   "source": [
    "X_cv_reduced = pca.transform(X_cv)"
   ]
  },
  {
   "cell_type": "code",
   "execution_count": 34,
   "id": "5ccf009a",
   "metadata": {
    "execution": {
     "iopub.execute_input": "2024-09-08T16:39:33.860795Z",
     "iopub.status.busy": "2024-09-08T16:39:33.859212Z",
     "iopub.status.idle": "2024-09-08T16:39:33.866902Z",
     "shell.execute_reply": "2024-09-08T16:39:33.865739Z"
    },
    "papermill": {
     "duration": 0.038273,
     "end_time": "2024-09-08T16:39:33.870764",
     "exception": false,
     "start_time": "2024-09-08T16:39:33.832491",
     "status": "completed"
    },
    "tags": []
   },
   "outputs": [
    {
     "name": "stdout",
     "output_type": "stream",
     "text": [
      "[[-1.01590249 -1.04566099]\n",
      " [11.17164591  0.05041011]\n",
      " [ 9.17501186  0.19023553]\n",
      " ...\n",
      " [ 4.30348873  1.65523397]\n",
      " [ 7.42580238  2.62763375]\n",
      " [-1.49068481  3.8814889 ]]\n"
     ]
    }
   ],
   "source": [
    "print(X_cv_reduced)"
   ]
  },
  {
   "cell_type": "code",
   "execution_count": 35,
   "id": "2b2115fa",
   "metadata": {
    "execution": {
     "iopub.execute_input": "2024-09-08T16:39:33.909133Z",
     "iopub.status.busy": "2024-09-08T16:39:33.907577Z",
     "iopub.status.idle": "2024-09-08T16:39:33.917950Z",
     "shell.execute_reply": "2024-09-08T16:39:33.916605Z"
    },
    "papermill": {
     "duration": 0.03244,
     "end_time": "2024-09-08T16:39:33.921109",
     "exception": false,
     "start_time": "2024-09-08T16:39:33.888669",
     "status": "completed"
    },
    "tags": []
   },
   "outputs": [],
   "source": [
    "X_test_reduced = pca.transform(X_test)"
   ]
  },
  {
   "cell_type": "code",
   "execution_count": 36,
   "id": "2bb594f8",
   "metadata": {
    "execution": {
     "iopub.execute_input": "2024-09-08T16:39:33.959080Z",
     "iopub.status.busy": "2024-09-08T16:39:33.957828Z",
     "iopub.status.idle": "2024-09-08T16:39:35.922879Z",
     "shell.execute_reply": "2024-09-08T16:39:35.921533Z"
    },
    "papermill": {
     "duration": 1.986762,
     "end_time": "2024-09-08T16:39:35.925531",
     "exception": false,
     "start_time": "2024-09-08T16:39:33.938769",
     "status": "completed"
    },
    "tags": []
   },
   "outputs": [
    {
     "name": "stdout",
     "output_type": "stream",
     "text": [
      "[0.03468463 0.04020796 0.02189076 ... 0.03847331 0.0400322  0.02043988]\n",
      "[2.94828868e-02 1.50319473e-05 1.98731624e-04 ... 6.01404959e-03\n",
      " 1.75264861e-04 4.88649372e-04]\n",
      "Best epsilon found using cross-validation: 1.724611e-04\n",
      "Best F1 on Cross Validation Set:  0.365362\n",
      "# Anomalies found: 9819\n"
     ]
    }
   ],
   "source": [
    "\n",
    "# Evaluate the probabilites for the training set\n",
    "p_high = multivariate_gaussian_pdf(X_train_reduced, mu_reduced, cov_matrix_reduced)\n",
    "print(p_high)\n",
    "\n",
    "# Evaluate the probabilites for the cross validation set\n",
    "p_val_high = multivariate_gaussian_pdf(X_cv_reduced, mu_reduced, cov_matrix_reduced)\n",
    "print(p_val_high)\n",
    "\n",
    "# Find the best threshold\n",
    "epsilon_high, F1_high = select_threshold(Y_cv, p_val_high)\n",
    "\n",
    "print('Best epsilon found using cross-validation: %e'% epsilon_high)\n",
    "print('Best F1 on Cross Validation Set:  %f'% F1_high)\n",
    "print('# Anomalies found: %d'% sum(p_high < epsilon_high))"
   ]
  },
  {
   "cell_type": "code",
   "execution_count": 37,
   "id": "b6e3caa4",
   "metadata": {
    "_kg_hide-input": false,
    "execution": {
     "iopub.execute_input": "2024-09-08T16:39:35.948819Z",
     "iopub.status.busy": "2024-09-08T16:39:35.948406Z",
     "iopub.status.idle": "2024-09-08T16:39:37.909492Z",
     "shell.execute_reply": "2024-09-08T16:39:37.908330Z"
    },
    "papermill": {
     "duration": 1.975603,
     "end_time": "2024-09-08T16:39:37.911998",
     "exception": false,
     "start_time": "2024-09-08T16:39:35.936395",
     "status": "completed"
    },
    "tags": []
   },
   "outputs": [
    {
     "name": "stdout",
     "output_type": "stream",
     "text": [
      "[4.01635981e-02 4.05574905e-02 2.94773543e-02 ... 7.90638140e-05\n",
      " 1.35875336e-02 8.04198090e-05]\n",
      "Best epsilon found using cross-validation: 1.724608e-04\n",
      "Best F1 on Cross Validation Set:  0.338778\n",
      "# Anomalies found: 9819\n"
     ]
    }
   ],
   "source": [
    "# Evaluate the probabilites for the test set\n",
    "p_val_high = multivariate_gaussian_pdf(X_test_reduced, mu_reduced, cov_matrix_reduced)\n",
    "print(p_val_high)\n",
    "\n",
    "# Find the best threshold\n",
    "epsilon_high, F1_high = select_threshold(Y_test, p_val_high)\n",
    "\n",
    "print('Best epsilon found using cross-validation: %e'% epsilon_high)\n",
    "print('Best F1 on Cross Validation Set:  %f'% F1_high)\n",
    "print('# Anomalies found: %d'% sum(p_high < epsilon_high))"
   ]
  }
 ],
 "metadata": {
  "kaggle": {
   "accelerator": "none",
   "dataSources": [
    {
     "datasetId": 1565,
     "sourceId": 2801,
     "sourceType": "datasetVersion"
    }
   ],
   "dockerImageVersionId": 30761,
   "isGpuEnabled": false,
   "isInternetEnabled": false,
   "language": "python",
   "sourceType": "notebook"
  },
  "kernelspec": {
   "display_name": "Python 3",
   "language": "python",
   "name": "python3"
  },
  "language_info": {
   "codemirror_mode": {
    "name": "ipython",
    "version": 3
   },
   "file_extension": ".py",
   "mimetype": "text/x-python",
   "name": "python",
   "nbconvert_exporter": "python",
   "pygments_lexer": "ipython3",
   "version": "3.10.14"
  },
  "papermill": {
   "default_parameters": {},
   "duration": 12.929365,
   "end_time": "2024-09-08T16:39:38.544612",
   "environment_variables": {},
   "exception": null,
   "input_path": "__notebook__.ipynb",
   "output_path": "__notebook__.ipynb",
   "parameters": {},
   "start_time": "2024-09-08T16:39:25.615247",
   "version": "2.6.0"
  }
 },
 "nbformat": 4,
 "nbformat_minor": 5
}
